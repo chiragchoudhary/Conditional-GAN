{
 "cells": [
  {
   "cell_type": "code",
   "execution_count": 1,
   "id": "cade614c",
   "metadata": {},
   "outputs": [
    {
     "name": "stderr",
     "output_type": "stream",
     "text": [
      "2022-10-22 00:06:31.878054: I tensorflow/core/platform/cpu_feature_guard.cc:193] This TensorFlow binary is optimized with oneAPI Deep Neural Network Library (oneDNN) to use the following CPU instructions in performance-critical operations:  AVX2 FMA\n",
      "To enable them in other operations, rebuild TensorFlow with the appropriate compiler flags.\n"
     ]
    }
   ],
   "source": [
    "from pathlib import Path\n",
    "import matplotlib.pyplot as plt\n",
    "\n",
    "import numpy as np\n",
    "\n",
    "import tensorflow as tf\n",
    "import keras\n",
    "\n",
    "from keras.layers import Conv2D, Dense, ReLU, BatchNormalization, Input, Flatten, Concatenate, Reshape\n",
    "from keras import Model\n",
    "from keras.optimizers import Adam\n",
    "from tensorflow.keras.utils import to_categorical\n",
    "from keras.losses import BinaryCrossentropy"
   ]
  },
  {
   "cell_type": "markdown",
   "id": "fe4efae0",
   "metadata": {},
   "source": [
    "## Load MNIST digits data set"
   ]
  },
  {
   "cell_type": "code",
   "execution_count": 26,
   "id": "df7d4329",
   "metadata": {},
   "outputs": [],
   "source": [
    "(x_train, y_train), (x_test, y_test) = tf.keras.datasets.mnist.load_data()"
   ]
  },
  {
   "cell_type": "code",
   "execution_count": 27,
   "id": "c22f4325",
   "metadata": {},
   "outputs": [],
   "source": [
    "x_train = np.expand_dims(x_train, axis=-1)\n",
    "x_test = np.expand_dims(x_test, axis=-1)"
   ]
  },
  {
   "cell_type": "code",
   "execution_count": 28,
   "id": "7912cfcc",
   "metadata": {},
   "outputs": [],
   "source": [
    "y_train = tf.keras.utils.to_categorical(y_train, num_classes=10, dtype=np.float32)\n",
    "y_test = tf.keras.utils.to_categorical(y_test, num_classes=10, dtype=np.float32)"
   ]
  },
  {
   "cell_type": "code",
   "execution_count": 29,
   "id": "8e28b7ad",
   "metadata": {},
   "outputs": [
    {
     "data": {
      "text/plain": [
       "((60000, 28, 28, 1), (60000, 10), (10000, 28, 28, 1), (10000, 10))"
      ]
     },
     "execution_count": 29,
     "metadata": {},
     "output_type": "execute_result"
    }
   ],
   "source": [
    "x_train.shape, y_train.shape, x_test.shape, y_test.shape"
   ]
  },
  {
   "cell_type": "code",
   "execution_count": 5,
   "id": "bf5251f1",
   "metadata": {},
   "outputs": [],
   "source": [
    "def mnist_transform(x):\n",
    "    return (tf.cast(x, tf.float32) / 127.5) - 1.0"
   ]
  },
  {
   "cell_type": "code",
   "execution_count": 6,
   "id": "f9f051dc",
   "metadata": {},
   "outputs": [
    {
     "name": "stderr",
     "output_type": "stream",
     "text": [
      "2022-10-22 00:06:37.984900: I tensorflow/core/platform/cpu_feature_guard.cc:193] This TensorFlow binary is optimized with oneAPI Deep Neural Network Library (oneDNN) to use the following CPU instructions in performance-critical operations:  AVX2 FMA\n",
      "To enable them in other operations, rebuild TensorFlow with the appropriate compiler flags.\n",
      "/Library/Frameworks/Python.framework/Versions/3.7/lib/python3.7/site-packages/matplotlib/figure.py:445: UserWarning: Matplotlib is currently using module://matplotlib_inline.backend_inline, which is a non-GUI backend, so cannot show the figure.\n",
      "  % get_backend())\n"
     ]
    },
    {
     "data": {
      "image/png": "[encoded data removed]",
      "text/plain": [
       "<Figure size 2160x3600 with 10 Axes>"
      ]
     },
     "metadata": {
      "needs_background": "light"
     },
     "output_type": "display_data"
    }
   ],
   "source": [
    "fig, ax = plt.subplots(1, 10, figsize=(30, 50))\n",
    "for i in range(10):\n",
    "    ax[i].matshow(mnist_transform(x_train[i, :, :, 0])-1)\n",
    "    ax[i].axis('off')\n",
    "fig.show()"
   ]
  },
  {
   "cell_type": "markdown",
   "id": "9d2803f1",
   "metadata": {},
   "source": [
    "## Define Conditional GAN model class"
   ]
  },
  {
   "cell_type": "code",
   "execution_count": 7,
   "id": "52e5091d",
   "metadata": {},
   "outputs": [],
   "source": [
    "Z_DIM = 100\n",
    "NUM_CLASSES = 10\n",
    "IMG_SHAPE = (28, 28, 1)"
   ]
  },
  {
   "cell_type": "code",
   "execution_count": 74,
   "id": "792ace33",
   "metadata": {},
   "outputs": [],
   "source": [
    "class CGAN(keras.Model):\n",
    "    def __init__(self):\n",
    "        super().__init__()\n",
    "        self.discriminator = self._build_discriminator()\n",
    "        self.generator = self._build_generator()\n",
    "        \n",
    "    def compile_model(self, discriminator_optimizer, generator_optimizer, loss_fn):\n",
    "        super().compile()\n",
    "        self.discriminator_optimizer = discriminator_optimizer\n",
    "        self.generator_optimizer = generator_optimizer\n",
    "        self.loss_fn = loss_fn\n",
    "        \n",
    "        self.discriminator.compile(loss=self.loss_fn,\n",
    "                                  optimizer=self.discriminator_optimizer)\n",
    "        \n",
    "        self.generator.compile(loss=self.loss_fn,\n",
    "                                  optimizer=self.generator_optimizer)\n",
    "        \n",
    "    def _build_generator(self):\n",
    "        img = Input((Z_DIM,))\n",
    "        labels = Input((NUM_CLASSES,))\n",
    "\n",
    "        layer1 = Concatenate()([img, labels])\n",
    "        layer2 = Dense(np.prod(IMG_SHAPE), 'relu')(layer1)\n",
    "        \n",
    "        layer3 = Reshape(IMG_SHAPE)(layer2)\n",
    "        \n",
    "        layer4 = Conv2D(\n",
    "            filters=32,\n",
    "            kernel_size=3,\n",
    "            strides=1,\n",
    "            padding='same',\n",
    "            activation='relu',\n",
    "        )(layer3)\n",
    "        \n",
    "        layer5 = Conv2D(\n",
    "            filters=16,\n",
    "            kernel_size=3,\n",
    "            strides=1,\n",
    "            padding='same',\n",
    "            activation='relu',\n",
    "        )(layer4)\n",
    "        \n",
    "        layer6 = Conv2D(\n",
    "            filters=1,\n",
    "            kernel_size=3,\n",
    "            strides=1,\n",
    "            padding='same',\n",
    "            activation='tanh',\n",
    "        )(layer5)\n",
    "        \n",
    "        return Model(inputs=[img, labels], outputs=layer6)\n",
    "    \n",
    "    def _build_discriminator(self):\n",
    "        img = Input(IMG_SHAPE)\n",
    "        labels = Input((NUM_CLASSES,))\n",
    "        \n",
    "        layer1 = Conv2D(\n",
    "            filters=32,\n",
    "            kernel_size=3,\n",
    "            strides=2,\n",
    "            padding='same',\n",
    "            activation='relu',\n",
    "        )(img)\n",
    "        \n",
    "        layer2 = Conv2D(\n",
    "            filters=32,\n",
    "            kernel_size=3,\n",
    "            strides=2,\n",
    "            padding='same',\n",
    "            activation='relu',\n",
    "        )(layer1)\n",
    "        \n",
    "        layer3 = Flatten()(layer2)\n",
    "        \n",
    "        layer4 = Concatenate()([layer3, labels])\n",
    "        layer5 = Dense(64, activation='relu')(layer4)\n",
    "        layer6 = Dense(32, activation='relu')(layer5)\n",
    "        \n",
    "        layer7 = Dense(1, activation='sigmoid')(layer6)\n",
    "        \n",
    "        output = layer7\n",
    "        return Model(inputs=[img, labels], outputs=layer7)\n",
    "    \n",
    "    def train_step(self, batch_data):\n",
    "        img, labels = batch_data\n",
    "        real_target_labels = np.ones((batch_size, 1), dtype=np.float32)\n",
    "        fake_target_labels = np.zeros((batch_size, 1), dtype=np.float32)\n",
    "        \n",
    "        with tf.GradientTape() as tape:\n",
    "            # Discriminator Loss\n",
    "            real_predictions = self.discriminator((img, labels), training=True)\n",
    "            real_d_loss = self.loss_fn(real_predictions, real_target_labels)\n",
    "            \n",
    "            z = tf.random.normal((batch_size, Z_DIM))\n",
    "            fake_img = self.generator((z, labels), training=False)\n",
    "            fake_predictions = self.discriminator((fake_img, labels), training=True)\n",
    "            fake_d_loss = self.loss_fn(fake_predictions, fake_target_labels)\n",
    "            \n",
    "            d_loss = real_d_loss + fake_d_loss\n",
    "        gradients = tape.gradient(d_loss, self.discriminator.trainable_weights)\n",
    "        self.discriminator_optimizer.apply_gradients(zip(gradients, self.discriminator.trainable_weights))\n",
    "        \n",
    "        with tf.GradientTape() as tape:\n",
    "            # Generator Loss\n",
    "            z = tf.random.normal((batch_size, Z_DIM))\n",
    "            fake_img = self.generator((z, labels), training=True)\n",
    "            fake_predictions = self.discriminator((fake_img, labels), training=False)\n",
    "            g_loss = self.loss_fn(fake_predictions, real_target_labels)\n",
    "            \n",
    "        gradients = tape.gradient(g_loss, self.generator.trainable_weights)\n",
    "        self.generator_optimizer.apply_gradients(zip(gradients, self.generator.trainable_weights))\n",
    "        \n",
    "        return {'Discriminator Loss': d_loss, 'Generator Loss': g_loss}\n",
    "    \n",
    "    def predict(self):\n",
    "        pass"
   ]
  },
  {
   "cell_type": "markdown",
   "id": "2d47c8de",
   "metadata": {},
   "source": [
    "## Define parameters"
   ]
  },
  {
   "cell_type": "code",
   "execution_count": 83,
   "id": "228350e5",
   "metadata": {},
   "outputs": [],
   "source": [
    "epochs = 2\n",
    "batch_size = 1000\n",
    "\n",
    "generator_optimizer = Adam(learning_rate=1e-4, beta_1=0.5)\n",
    "discriminator_optimizer = Adam(learning_rate=1e-4, beta_1=0.5)\n",
    "\n",
    "loss_fn = BinaryCrossentropy()"
   ]
  },
  {
   "cell_type": "markdown",
   "id": "cf4fa9f6",
   "metadata": {},
   "source": [
    "## Define a Data Iterator"
   ]
  },
  {
   "cell_type": "code",
   "execution_count": 90,
   "id": "633efaf8",
   "metadata": {},
   "outputs": [],
   "source": [
    "train_data = tf.data.Dataset.from_tensor_slices((x_train, y_train)).map(lambda x, y: (mnist_transform(x), y)).batch(batch_size)\n",
    "test_data = tf.data.Dataset.from_tensor_slices((x_test, y_test)).map(lambda x, y: (mnist_transform(x), y)).batch(batch_size)\n"
   ]
  },
  {
   "cell_type": "code",
   "execution_count": 70,
   "id": "ed2c29c6",
   "metadata": {},
   "outputs": [
    {
     "name": "stdout",
     "output_type": "stream",
     "text": [
      "(100, 28, 28, 1) (100, 10)\n"
     ]
    }
   ],
   "source": [
    "for i, j in train_data.take(1):\n",
    "    print(i.shape, j.shape)"
   ]
  },
  {
   "cell_type": "markdown",
   "id": "bdee0ea3",
   "metadata": {},
   "source": [
    "## Define Callback"
   ]
  },
  {
   "cell_type": "code",
   "execution_count": 101,
   "id": "20341f63",
   "metadata": {},
   "outputs": [],
   "source": [
    "class CustomCallback(keras.callbacks.Callback):\n",
    "    def __init__(self):\n",
    "        self.d_losses = []\n",
    "        self.g_losses = []\n",
    "        \n",
    "    def on_batch_end(self, batch, logs):\n",
    "        self.d_losses.append(logs['Discriminator Loss'])\n",
    "        self.g_losses.append(logs['Generator Loss'])\n",
    "        \n",
    "    def on_epoch_end(self, epoch, logs):\n",
    "        print(logs.keys())"
   ]
  },
  {
   "cell_type": "code",
   "execution_count": 102,
   "id": "aeeb6d66",
   "metadata": {},
   "outputs": [],
   "source": [
    "callback = CustomCallback()"
   ]
  },
  {
   "cell_type": "markdown",
   "id": "8b25a744",
   "metadata": {},
   "source": [
    "## Train CGAN model"
   ]
  },
  {
   "cell_type": "code",
   "execution_count": 103,
   "id": "dfc80135",
   "metadata": {},
   "outputs": [],
   "source": [
    "cgan = CGAN()"
   ]
  },
  {
   "cell_type": "code",
   "execution_count": 99,
   "id": "7e6f798f",
   "metadata": {},
   "outputs": [],
   "source": [
    "cgan.compile_model(discriminator_optimizer, generator_optimizer, loss_fn)"
   ]
  },
  {
   "cell_type": "code",
   "execution_count": 100,
   "id": "dba0d11c",
   "metadata": {},
   "outputs": [
    {
     "name": "stdout",
     "output_type": "stream",
     "text": [
      "Epoch 1/2\n",
      "60/60 [==============================] - 63s 1s/step - Discriminator Loss: 9.4812 - Generator Loss: 8.2822\n",
      "Epoch 2/2\n",
      "60/60 [==============================] - 70s 1s/step - Discriminator Loss: 2.5093 - Generator Loss: 13.1699\n"
     ]
    },
    {
     "data": {
      "text/plain": [
       "<keras.callbacks.History at 0x7f8135f702b0>"
      ]
     },
     "execution_count": 100,
     "metadata": {},
     "output_type": "execute_result"
    }
   ],
   "source": [
    "cgan.fit(train_data,\n",
    "         epochs=epochs,\n",
    "         callbacks=[callback]\n",
    "        )"
   ]
  },
  {
   "cell_type": "code",
   "execution_count": 104,
   "id": "05d8cf56",
   "metadata": {},
   "outputs": [
    {
     "ename": "SyntaxError",
     "evalue": "unexpected EOF while parsing (2190066440.py, line 2)",
     "output_type": "error",
     "traceback": [
      "\u001b[0;36m  File \u001b[0;32m\"/var/folders/94/cl9x8fgn1nl2wnjpw2j_48980000gn/T/ipykernel_17370/2190066440.py\"\u001b[0;36m, line \u001b[0;32m2\u001b[0m\n\u001b[0;31m    for j in range(10):\u001b[0m\n\u001b[0m                       ^\u001b[0m\n\u001b[0;31mSyntaxError\u001b[0m\u001b[0;31m:\u001b[0m unexpected EOF while parsing\n"
     ]
    }
   ],
   "source": [
    "fig, ax = plt.subplots(10, 10)\n",
    "for i in range(10):\n",
    "    for j in range(10):\n",
    "        "
   ]
  },
  {
   "cell_type": "code",
   "execution_count": 137,
   "id": "8454a44e",
   "metadata": {},
   "outputs": [],
   "source": [
    "p = cgan.generator((tf.random.normal(shape=(1, Z_DIM)), np.array([[0, 0, 0, 0, 1, 0, 0, 0, 0, 0]])), training=False)\n"
   ]
  },
  {
   "cell_type": "code",
   "execution_count": 138,
   "id": "2991f005",
   "metadata": {},
   "outputs": [
    {
     "data": {
      "text/plain": [
       "TensorShape([1, 28, 28, 1])"
      ]
     },
     "execution_count": 138,
     "metadata": {},
     "output_type": "execute_result"
    }
   ],
   "source": [
    "p.shape"
   ]
  },
  {
   "cell_type": "code",
   "execution_count": 139,
   "id": "15fdcb87",
   "metadata": {},
   "outputs": [
    {
     "data": {
      "text/plain": [
       "-0.122595064"
      ]
     },
     "execution_count": 139,
     "metadata": {},
     "output_type": "execute_result"
    }
   ],
   "source": [
    "p.numpy().min()"
   ]
  },
  {
   "cell_type": "code",
   "execution_count": 140,
   "id": "8f208722",
   "metadata": {},
   "outputs": [
    {
     "data": {
      "text/plain": [
       "<matplotlib.image.AxesImage at 0x7f8161281208>"
      ]
     },
     "execution_count": 140,
     "metadata": {},
     "output_type": "execute_result"
    },
    {
     "data": {
      "image/png": "[encoded data removed]",
      "text/plain": [
       "<Figure size 288x288 with 1 Axes>"
      ]
     },
     "metadata": {
      "needs_background": "light"
     },
     "output_type": "display_data"
    }
   ],
   "source": [
    "plt.matshow(p[0, :, :, 0], cmap='viridis')"
   ]
  },
  {
   "cell_type": "code",
   "execution_count": 117,
   "id": "9c396df0",
   "metadata": {},
   "outputs": [
    {
     "data": {
      "text/plain": [
       "TensorShape([1, 100])"
      ]
     },
     "execution_count": 117,
     "metadata": {},
     "output_type": "execute_result"
    }
   ],
   "source": [
    "tf.random.normal(shape=(1, Z_DIM)).shape"
   ]
  },
  {
   "cell_type": "code",
   "execution_count": 111,
   "id": "1a7667f2",
   "metadata": {},
   "outputs": [
    {
     "data": {
      "text/plain": [
       "(1, 10)"
      ]
     },
     "execution_count": 111,
     "metadata": {},
     "output_type": "execute_result"
    }
   ],
   "source": [
    "np.array([[0, 0, 0, 0, 0, 0, 0, 0, 1, 0]]).shape"
   ]
  },
  {
   "cell_type": "code",
   "execution_count": null,
   "id": "5e731578",
   "metadata": {},
   "outputs": [],
   "source": []
  }
 ],
 "metadata": {
  "kernelspec": {
   "display_name": "Python 3 (ipykernel)",
   "language": "python",
   "name": "python3"
  },
  "language_info": {
   "codemirror_mode": {
    "name": "ipython",
    "version": 3
   },
   "file_extension": ".py",
   "mimetype": "text/x-python",
   "name": "python",
   "nbconvert_exporter": "python",
   "pygments_lexer": "ipython3",
   "version": "3.7.3"
  }
 },
 "nbformat": 4,
 "nbformat_minor": 5
}
